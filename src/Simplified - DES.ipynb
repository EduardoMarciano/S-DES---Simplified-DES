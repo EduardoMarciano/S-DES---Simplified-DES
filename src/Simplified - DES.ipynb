{
 "cells": [
  {
   "cell_type": "markdown",
   "id": "5b98b6a5",
   "metadata": {},
   "source": [
    "# Simplified - DES\n",
    "\n",
    "O S-DES (Simplified Data Encryption Standard) é um algoritmo de criptografia simétrica utilizado exclusivamente para fins educacionais, com o objetivo de proporcionar entendimento sobre o algoritmo DES. O S-DES é uma versão reduzida e simplificada do DES, com uma chave de 10 bits e blocos de 8 bits, executando também apenas duas passagens pela função FK, que é uma versão simplificada da função do DES, principal responsável pela difusão da mensagem original. A difusão ocorre por meio de permutações, deslocamentos circulares, substituições e expansões para garantir a confidencialidade e a integridade das informações.\n",
    "\n",
    "Neste notebook, faremos uma implementação do S-DES, seguindo as diretrizes do professor Edward Schaefer da Universidade de Santa Clara."
   ]
  },
  {
   "cell_type": "markdown",
   "id": "f9d517e4",
   "metadata": {},
   "source": [
    "## Geração das sub chaves K1 e K2\n",
    "\n",
    "O S-DES é um algoritmo de criptografia simétrica, assim, teremos apenas uma chave privada, a qual será utilizada tanto no processo de criptografia quanto no processo de descriptografia. Esta chave possui 10 bits e será utilizada como entrada para a geração de duas subchaves de 8 bits, K1 e K2. Cada subchave será empregada exclusivamente uma vez como uma das entradas na função F de difusão.\n",
    "\n",
    "Para geração destas subchaves, é aplicado as seguintes funções na respectiva ordem:"
   ]
  },
  {
   "cell_type": "markdown",
   "id": "9db6b3c8",
   "metadata": {},
   "source": [
    "### Função de Permutação P10\n",
    "\n",
    "Uma função simples de permutação, que embaralha o valor da nossa chave privada de forma deterministica.\n"
   ]
  },
  {
   "cell_type": "code",
   "execution_count": 64,
   "id": "8c4b0c1d",
   "metadata": {},
   "outputs": [],
   "source": [
    "def P_10(key):\n",
    "    \"\"\"\n",
    "    Performs the P10 permutation on a 10-bit key.\n",
    "    \"\"\"\n",
    "    return [key[2], key[4], key[1], key[6], key[3], key[9], key[0], key[8], key[7], key[5]]"
   ]
  },
  {
   "cell_type": "markdown",
   "id": "af54e3ff",
   "metadata": {},
   "source": [
    "### Função para o Deslocamento Circular a Esquerda\n",
    "\n"
   ]
  },
  {
   "cell_type": "code",
   "execution_count": 65,
   "id": "e9565ca9",
   "metadata": {},
   "outputs": [],
   "source": [
    "def circular_left_shift(key):\n",
    "    \"\"\"\n",
    "    Performs a circular left shift (LS-1) on both halves of a 10-bit key.\n",
    "    \"\"\"\n",
    "    left  = key[:len(key)//2]\n",
    "    right = key[len(key)//2:]\n",
    "\n",
    "    left = left[1:] + left[:1]\n",
    "    right = right[1:] + right[:1]\n",
    "\n",
    "    return left+right"
   ]
  },
  {
   "cell_type": "markdown",
   "id": "c4a1d8e5",
   "metadata": {},
   "source": [
    "### Função de Permutação P8\n"
   ]
  },
  {
   "cell_type": "code",
   "execution_count": 66,
   "id": "93860f64",
   "metadata": {},
   "outputs": [],
   "source": [
    "def P_8(key):\n",
    "    \"\"\"\n",
    "    Performs the P8 permutation on a 10-bit key.\n",
    "    \"\"\"\n",
    "    return [key[5], key[2], key[6], key[3], key[7], key[4], key[9], key[8]]"
   ]
  },
  {
   "cell_type": "markdown",
   "id": "fbf9beda",
   "metadata": {},
   "source": [
    "### Executando as Funções para Geração de K1 e K2"
   ]
  },
  {
   "cell_type": "code",
   "execution_count": 67,
   "id": "cdba16e5",
   "metadata": {},
   "outputs": [],
   "source": [
    "def s_des_generation_keys(key):\n",
    "    \"\"\"\n",
    "    Generates the K1 and K2 keys for the S-DES encryption algorithm.\n",
    "    \"\"\"\n",
    "    key_P10 = P_10(key)\n",
    "    key_P10 = circular_left_shift(key_P10)\n",
    "    k1 = P_8(key_P10)\n",
    "\n",
    "    key_P10 = circular_left_shift(key_P10)\n",
    "    key_P10 = circular_left_shift(key_P10)\n",
    "    k2 = P_8(key_P10)\n",
    "\n",
    "    return k1, k2"
   ]
  },
  {
   "cell_type": "code",
   "execution_count": 68,
   "id": "3fb2a13e",
   "metadata": {},
   "outputs": [
    {
     "name": "stdout",
     "output_type": "stream",
     "text": [
      "Key K1: ['1', '0', '1', '0', '0', '1', '0', '0']\n",
      "Key K2: ['0', '1', '0', '0', '0', '0', '1', '1']\n"
     ]
    }
   ],
   "source": [
    "# Original 10-bit key\n",
    "key = [\"1\",\"0\",\"1\",\"0\",\"0\",\"0\",\"0\",\"0\",\"1\",\"0\"]\n",
    "# Original 8-bit block\n",
    "block = [\"1\",\"1\",\"0\",\"1\",\"0\",\"1\",\"1\",\"1\"]\n",
    "# The two subkeys generated\n",
    "k1, k2 = s_des_generation_keys(key)\n",
    "\n",
    "print(f'Key K1: {k1}\\nKey K2: {k2}')"
   ]
  },
  {
   "cell_type": "markdown",
   "id": "3e8ee888",
   "metadata": {},
   "source": [
    "## Aplicação da Criptografia e Descriptografia\n",
    "\n",
    "Para o estudo da criptografia por deslocamento, utilizaremos a primeira página do livro:\"A Revolução dos Bixos\" por George Orwell. Da edição da Gaveta do Povo. A escolha foi motivada pela necessidade que para a quebra de um texto por análise de frequência, é importante ter um grande volume de palavras escritas de forma coerente e ortograficamente corretas. Assim, nada melhor que um livro para nos fornercer esses dados.\n",
    "\n",
    "Mas para isso é necessário uma série de filtragens para tornar o texto livre de acentuação, caracteres especiais e letras como \"ç\".\n",
    "\n",
    "Assim, vamos desenvolver a seguinte função para a leitura e tratamento do nosso texto a ser cifrado:\n"
   ]
  },
  {
   "cell_type": "markdown",
   "id": "e862c9c9",
   "metadata": {},
   "source": [
    "### Função de Permutação Inicial - IP\n",
    "\n",
    "Para o estudo da criptografia por deslocamento, utilizaremos a primeira página do livro:\"A Revolução dos Bixos\" por George Orwell. Da edição da Gaveta do Povo. A escolha foi motivada pela necessidade que para a quebra de um texto por análise de frequência, é importante ter um grande volume de palavras escritas de forma coerente e ortograficamente corretas. Assim, nada melhor que um livro para nos fornercer esses dados.\n",
    "\n",
    "Mas para isso é necessário uma série de filtragens para tornar o texto livre de acentuação, caracteres especiais e letras como \"ç\".\n",
    "\n",
    "Assim, vamos desenvolver a seguinte função para a leitura e tratamento do nosso texto a ser cifrado:\n"
   ]
  },
  {
   "cell_type": "markdown",
   "id": "71656a52",
   "metadata": {},
   "source": [
    "### Função de Permutação Final - FP (Inversa da IP)\n",
    "\n",
    "Para o estudo da criptografia por deslocamento, utilizaremos a primeira página do livro:\"A Revolução dos Bixos\" por George Orwell. Da edição da Gaveta do Povo. A escolha foi motivada pela necessidade que para a quebra de um texto por análise de frequência, é importante ter um grande volume de palavras escritas de forma coerente e ortograficamente corretas. Assim, nada melhor que um livro para nos fornercer esses dados.\n",
    "\n",
    "Mas para isso é necessário uma série de filtragens para tornar o texto livre de acentuação, caracteres especiais e letras como \"ç\".\n",
    "\n",
    "Assim, vamos desenvolver a seguinte função para a leitura e tratamento do nosso texto a ser cifrado:\n"
   ]
  },
  {
   "cell_type": "markdown",
   "id": "efdd1235",
   "metadata": {},
   "source": [
    "### Função de Expansão e Permutação - EP\n",
    "\n",
    "Para o estudo da criptografia por deslocamento, utilizaremos a primeira página do livro:\"A Revolução dos Bixos\" por George Orwell. Da edição da Gaveta do Povo. A escolha foi motivada pela necessidade que para a quebra de um texto por análise de frequência, é importante ter um grande volume de palavras escritas de forma coerente e ortograficamente corretas. Assim, nada melhor que um livro para nos fornercer esses dados.\n",
    "\n",
    "Mas para isso é necessário uma série de filtragens para tornar o texto livre de acentuação, caracteres especiais e letras como \"ç\".\n",
    "\n",
    "Assim, vamos desenvolver a seguinte função para a leitura e tratamento do nosso texto a ser cifrado:\n"
   ]
  },
  {
   "cell_type": "markdown",
   "id": "a04fef34",
   "metadata": {},
   "source": [
    "### Função de Permutação de 4 bits - P4\n",
    "\n",
    "Para o estudo da criptografia por deslocamento, utilizaremos a primeira página do livro:\"A Revolução dos Bixos\" por George Orwell. Da edição da Gaveta do Povo. A escolha foi motivada pela necessidade que para a quebra de um texto por análise de frequência, é importante ter um grande volume de palavras escritas de forma coerente e ortograficamente corretas. Assim, nada melhor que um livro para nos fornercer esses dados.\n",
    "\n",
    "Mas para isso é necessário uma série de filtragens para tornar o texto livre de acentuação, caracteres especiais e letras como \"ç\".\n",
    "\n",
    "Assim, vamos desenvolver a seguinte função para a leitura e tratamento do nosso texto a ser cifrado:\n"
   ]
  },
  {
   "cell_type": "markdown",
   "id": "067fee2f",
   "metadata": {},
   "source": [
    "### Função F\n",
    "\n",
    "Para o estudo da criptografia por deslocamento, utilizaremos a primeira página do livro:\"A Revolução dos Bixos\" por George Orwell. Da edição da Gaveta do Povo. A escolha foi motivada pela necessidade que para a quebra de um texto por análise de frequência, é importante ter um grande volume de palavras escritas de forma coerente e ortograficamente corretas. Assim, nada melhor que um livro para nos fornercer esses dados.\n",
    "\n",
    "Mas para isso é necessário uma série de filtragens para tornar o texto livre de acentuação, caracteres especiais e letras como \"ç\".\n",
    "\n",
    "Assim, vamos desenvolver a seguinte função para a leitura e tratamento do nosso texto a ser cifrado:\n"
   ]
  },
  {
   "cell_type": "markdown",
   "id": "710fb9db",
   "metadata": {},
   "source": [
    "### Função Fk\n",
    "\n",
    "Para o estudo da criptografia por deslocamento, utilizaremos a primeira página do livro:\"A Revolução dos Bixos\" por George Orwell. Da edição da Gaveta do Povo. A escolha foi motivada pela necessidade que para a quebra de um texto por análise de frequência, é importante ter um grande volume de palavras escritas de forma coerente e ortograficamente corretas. Assim, nada melhor que um livro para nos fornercer esses dados.\n",
    "\n",
    "Mas para isso é necessário uma série de filtragens para tornar o texto livre de acentuação, caracteres especiais e letras como \"ç\".\n",
    "\n",
    "Assim, vamos desenvolver a seguinte função para a leitura e tratamento do nosso texto a ser cifrado:\n"
   ]
  },
  {
   "cell_type": "markdown",
   "id": "aeaafd42",
   "metadata": {},
   "source": [
    "### Executando Criptografia e Descriptografia\n",
    "\n",
    "Para o estudo da criptografia por deslocamento, utilizaremos a primeira página do livro:\"A Revolução dos Bixos\" por George Orwell. Da edição da Gaveta do Povo. A escolha foi motivada pela necessidade que para a quebra de um texto por análise de frequência, é importante ter um grande volume de palavras escritas de forma coerente e ortograficamente corretas. Assim, nada melhor que um livro para nos fornercer esses dados.\n",
    "\n",
    "Mas para isso é necessário uma série de filtragens para tornar o texto livre de acentuação, caracteres especiais e letras como \"ç\".\n",
    "\n",
    "Assim, vamos desenvolver a seguinte função para a leitura e tratamento do nosso texto a ser cifrado:\n"
   ]
  }
 ],
 "metadata": {
  "kernelspec": {
   "display_name": ".venv",
   "language": "python",
   "name": "python3"
  },
  "language_info": {
   "codemirror_mode": {
    "name": "ipython",
    "version": 3
   },
   "file_extension": ".py",
   "mimetype": "text/x-python",
   "name": "python",
   "nbconvert_exporter": "python",
   "pygments_lexer": "ipython3",
   "version": "3.11.2"
  }
 },
 "nbformat": 4,
 "nbformat_minor": 5
}
