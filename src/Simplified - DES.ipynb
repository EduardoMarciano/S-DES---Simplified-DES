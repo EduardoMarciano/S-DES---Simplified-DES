{
 "cells": [
  {
   "cell_type": "markdown",
   "id": "5b98b6a5",
   "metadata": {},
   "source": [
    "# Simplified - DES\n",
    "\n",
    "O S-DES (Simplified Data Encryption Standard) é um algoritmo de criptografia simétrica utilizado exclusivamente para fins educacionais, com o objetivo de proporcionar entendimento sobre o algoritmo DES. O S-DES é uma versão reduzida e simplificada do DES, com uma chave de 10 bits e blocos de 8 bits, executando também apenas duas passagens pela função FK, que é uma versão simplificada da função do DES, principal responsável pela difusão da mensagem original. A difusão ocorre por meio de permutações, deslocamentos circulares, substituições e expansões para garantir a confidencialidade e a integridade das informações.\n",
    "\n",
    "Neste notebook, faremos uma implementação do S-DES, seguindo as diretrizes do professor Edward Schaefer da Universidade de Santa Clara."
   ]
  },
  {
   "cell_type": "markdown",
   "id": "f9d517e4",
   "metadata": {},
   "source": [
    "## Geração das sub chaves K1 e K2\n",
    "\n",
    "O S-DES é um algoritmo de criptografia simétrica, assim, teremos apenas uma chave privada, a qual será utilizada tanto no processo de criptografia quanto no processo de descriptografia. Esta chave possui 10 bits e será utilizada como entrada para a geração de duas subchaves de 8 bits, K1 e K2. Cada subchave será empregada apenas uma vez como uma das entradas na função F de difusão.\n",
    "\n",
    "Para geração destas subchaves, é aplicado as seguintes funções na respectiva ordem:"
   ]
  },
  {
   "cell_type": "markdown",
   "id": "9db6b3c8",
   "metadata": {},
   "source": [
    "### Função de Permutação P10\n",
    "\n",
    "Uma função simples de permutação que embaralha o valor da nossa chave privada de forma determinística."
   ]
  },
  {
   "cell_type": "code",
   "execution_count": 533,
   "id": "8c4b0c1d",
   "metadata": {},
   "outputs": [],
   "source": [
    "def P_10(key):\n",
    "    \"\"\"\n",
    "    Performs the P10 permutation on a 10-bit key.\n",
    "    \"\"\"\n",
    "    return [key[2], key[4], key[1], key[6], key[3], key[9], key[0], key[8], key[7], key[5]]"
   ]
  },
  {
   "cell_type": "markdown",
   "id": "4ce0a3da",
   "metadata": {},
   "source": [
    "Será a primeira etapa da geração das nossas subchaves."
   ]
  },
  {
   "cell_type": "markdown",
   "id": "af54e3ff",
   "metadata": {},
   "source": [
    "### Função para o Deslocamento Circular a Esquerda\n",
    "\n",
    "Implementação básica de uma função de deslocamento circular a esquerda.\n"
   ]
  },
  {
   "cell_type": "code",
   "execution_count": 534,
   "id": "e9565ca9",
   "metadata": {},
   "outputs": [],
   "source": [
    "def circular_left_shift(key):\n",
    "    \"\"\"\n",
    "    Performs a circular left shift (LS-1) on both halves of a 10-bit key.\n",
    "    \"\"\"\n",
    "    left  = key[:len(key)//2]\n",
    "    right = key[len(key)//2:]\n",
    "\n",
    "    left = left[1:] + left[:1]\n",
    "    right = right[1:] + right[:1]\n",
    "\n",
    "    return left+right"
   ]
  },
  {
   "cell_type": "markdown",
   "id": "f01c7cee",
   "metadata": {},
   "source": [
    "Após passar pela função P_1O, será feito uma rodada nesta função."
   ]
  },
  {
   "cell_type": "markdown",
   "id": "c4a1d8e5",
   "metadata": {},
   "source": [
    "### Função de Permutação P8\n",
    "\n",
    "Uma função simples de permutação que embaralha o valor da nossa chave privada de forma determinística e reduzindo o tamanho da chave em dois bits."
   ]
  },
  {
   "cell_type": "code",
   "execution_count": 535,
   "id": "93860f64",
   "metadata": {},
   "outputs": [],
   "source": [
    "def P_8(key):\n",
    "    \"\"\"\n",
    "    Performs the P8 permutation on a 10-bit key.\n",
    "    \"\"\"\n",
    "    return [key[5], key[2], key[6], key[3], key[7], key[4], key[9], key[8]]"
   ]
  },
  {
   "cell_type": "markdown",
   "id": "45d4c714",
   "metadata": {},
   "source": [
    "Após passar por uma rodada da circular_left_shift, esta função será aplicada e o seu resultado será o valor da primeira subchave K1.\n",
    "\n",
    "Para geração da subchave K2, será aplicado mais duas rodadas da função circular_left_shift e depois aplicado novamente a função P_8, assim, o seu resultado será o valor da segunda subchave K2."
   ]
  },
  {
   "cell_type": "markdown",
   "id": "fbf9beda",
   "metadata": {},
   "source": [
    "### Executando as Funções para Geração de K1 e K2\n",
    "\n",
    "Aqui temos a função s_des_generation_keys que implementa a ordem de execução das funções descritas acima."
   ]
  },
  {
   "cell_type": "code",
   "execution_count": 536,
   "id": "cdba16e5",
   "metadata": {},
   "outputs": [],
   "source": [
    "def s_des_generation_keys(key):\n",
    "    \"\"\"\n",
    "    Generates the K1 and K2 keys for the S-DES encryption algorithm.\n",
    "    \"\"\"\n",
    "    key_P10 = P_10(key)\n",
    "    key_P10 = circular_left_shift(key_P10)\n",
    "    k1 = P_8(key_P10)\n",
    "\n",
    "    key_P10 = circular_left_shift(key_P10)\n",
    "    key_P10 = circular_left_shift(key_P10)\n",
    "    k2 = P_8(key_P10)\n",
    "\n",
    "    return k1, k2"
   ]
  },
  {
   "cell_type": "markdown",
   "id": "51836237",
   "metadata": {},
   "source": [
    "Para testarmos a operação desse algoritmo usaremos como chave o valor: 1010000010 e para o valor do bloco será utilizado: 11010111"
   ]
  },
  {
   "cell_type": "code",
   "execution_count": 537,
   "id": "3fb2a13e",
   "metadata": {},
   "outputs": [
    {
     "name": "stdout",
     "output_type": "stream",
     "text": [
      "Key K1: ['1', '0', '1', '0', '0', '1', '0', '0']\n",
      "Key K2: ['0', '1', '0', '0', '0', '0', '1', '1']\n"
     ]
    }
   ],
   "source": [
    "# Original 10-bit key\n",
    "key = [\"1\",\"0\",\"1\",\"0\",\"0\",\"0\",\"0\",\"0\",\"1\",\"0\"]\n",
    "# Original 8-bit block\n",
    "block = [\"1\",\"1\",\"0\",\"1\",\"0\",\"1\",\"1\",\"1\"]\n",
    "# The two subkeys generated\n",
    "k1, k2 = s_des_generation_keys(key)\n",
    "\n",
    "print(f'Key K1: {k1}\\nKey K2: {k2}')"
   ]
  },
  {
   "cell_type": "markdown",
   "id": "fc9742da",
   "metadata": {},
   "source": [
    "Após rodar o bloco de código acima, o resultado deverá ser:\n",
    "\n",
    "Key K1: ['1', '0', '1', '0', '0', '1', '0', '0']\n",
    "\n",
    "Key K2: ['0', '1', '0', '0', '0', '0', '1', '1']\n",
    "\n",
    "Como nossa função de geração de subchave é totalmente deterministica, como deve ser,o resultado sempre deve ser este, caso não tenha sido esse caso, rode novamento todos os blocos acima para evitar algum problema de falta de declaração."
   ]
  },
  {
   "cell_type": "markdown",
   "id": "3e8ee888",
   "metadata": {},
   "source": [
    "## Aplicação da Criptografia e Descriptografia\n",
    "\n",
    "Com as subchaves K1 e K2 geradas, seguimos para a etapa de criptografia e descriptografia da nossa implementação do algoritmo S-DES.\n",
    "\n",
    "A criptografia é realizada pela sequência de funções: FP(Fk(k2, SW(Fk(k1, IP(block)))). Aqui, aplicamos as operações de permutação inicial (IP), seguida por Fk com K1 para realizar as operações de difusão. Depois, usamos a função SW para inverter as metades e aplicando Fk com K2. No final, uma permutação final (FP) reorganiza os bits da mensagem cifrada, terminando o processo de criptografia.\n",
    "\n",
    "A descriptografia é similar, mas com a ordem das subchaves invertida: FP(Fk(k1, SW(Fk(k2, IP(cipher_text)))). A ordem das operações é a mesma, apenas aplicando Fk com K2 antes de Fk com K1 para restaurar a mensagem original.\n",
    "\n",
    "\n",
    "Além das funções citadas acima, usaremos também duas tabelas de substituições, S0 e S1, e duas funções auxiliares, binary_to_decimal e exclusive_or, as quais são essenciais para o bom funcionamento do algoritmo.\n"
   ]
  },
  {
   "cell_type": "code",
   "execution_count": 538,
   "id": "ced5e2b3",
   "metadata": {},
   "outputs": [],
   "source": [
    "S0 = [[\"01\", \"00\", \"11\", \"10\"],\n",
    "      [\"11\", \"10\", \"01\", \"00\"],\n",
    "      [\"00\", \"10\", \"01\", \"11\"],\n",
    "      [\"11\", \"01\", \"11\", \"10\"]]\n",
    "\n",
    "S1 = [[\"00\", \"01\", \"10\", \"11\"],\n",
    "      [\"10\", \"00\", \"01\", \"11\"],\n",
    "      [\"11\", \"00\", \"01\", \"00\"],\n",
    "      [\"10\", \"01\", \"00\", \"11\"]]\n",
    "\n",
    "def binary_to_decimal(n):\n",
    "    \"\"\"Converts a binary string to its decimal equivalent.\"\"\"\n",
    "    decimal = 0\n",
    "    for i, bit in enumerate(reversed(n)):\n",
    "        decimal += int(bit) * (2 ** i) \n",
    "    return decimal\n",
    "\n",
    "def exclusive_or(n0, n1):\n",
    "    \"\"\"Performs a bitwise exclusive OR operation between two binary bits.\"\"\"\n",
    "    if n0 == n1:\n",
    "        return \"0\"\n",
    "    else:\n",
    "        return \"1\""
   ]
  },
  {
   "cell_type": "markdown",
   "id": "0863f7f1",
   "metadata": {},
   "source": [
    "PS: não esqueça de executar todos os blocos de código para evitar problemas de falta de definições."
   ]
  },
  {
   "cell_type": "markdown",
   "id": "e862c9c9",
   "metadata": {},
   "source": [
    "### Função de Permutação Inicial - IP\n",
    "\n",
    "Uma função simples de permutação que embaralha o valor do bloco de entrada de forma determinística.\n"
   ]
  },
  {
   "cell_type": "code",
   "execution_count": 539,
   "id": "099e36e6",
   "metadata": {},
   "outputs": [],
   "source": [
    "def IP(block):\n",
    "    \"\"\"Initial Permutation (IP) rearranges the input block in a specific arrange\"\"\"\n",
    "    return [block[1], block[5], block[2], block[0], block[3], block[7], block[4], block[6]]"
   ]
  },
  {
   "cell_type": "markdown",
   "id": "e9159585",
   "metadata": {},
   "source": [
    "Será a primeira função sobre nosso texto em claro."
   ]
  },
  {
   "cell_type": "markdown",
   "id": "71656a52",
   "metadata": {},
   "source": [
    "### Função de Permutação Final - FP (Inversa da IP)\n",
    "\n",
    "Uma função simples de permutação que embaralha o valor do bloco de forma determinística.\n"
   ]
  },
  {
   "cell_type": "code",
   "execution_count": 540,
   "id": "6655f370",
   "metadata": {},
   "outputs": [],
   "source": [
    "def FP(block):\n",
    "    \"\"\"Final Permutation (FP) is equivalent to the inverse function of IP\"\"\"\n",
    "    return [block[3], block[0], block[2], block[4], block[6], block[1], block[7], block[5]]"
   ]
  },
  {
   "cell_type": "markdown",
   "id": "98188d18",
   "metadata": {},
   "source": [
    "Será a ultima função aplicada sobre o nosso bloco de 8 bits."
   ]
  },
  {
   "cell_type": "markdown",
   "id": "efdd1235",
   "metadata": {},
   "source": [
    "### Função de Expansão e Permutação - EP\n",
    "\n",
    "A função EP realiza a expansão de um bloco de 4 bits para 8 bits e, em seguida, aplica a operação de XOR entre o bloco expandido e uma chave de 8 bits. A expansão é feita reorganizando os bits do bloco original em uma nova ordem, duplicando alguns deles para atingir o tamanho necessário.\n"
   ]
  },
  {
   "cell_type": "code",
   "execution_count": 541,
   "id": "4b9b860b",
   "metadata": {},
   "outputs": [],
   "source": [
    "def EP(key, block):\n",
    "    \"\"\"Expansion Permutation (EP) expands and XORs a 4-bit block with an 8-bit key\"\"\"\n",
    "    return [exclusive_or(block[3], key[0]), exclusive_or(block[0], key[1]), exclusive_or(block[1], key[2]), exclusive_or(block[2], key[3]), \n",
    "            exclusive_or(block[1], key[4]), exclusive_or(block[2], key[5]), exclusive_or(block[3], key[6]), exclusive_or(block[0], key[7])]\n"
   ]
  },
  {
   "cell_type": "markdown",
   "id": "247e1617",
   "metadata": {},
   "source": [
    "Essa função será chamada dentro da função F, utilizando como entrada o bloco de 4 bits correspondente à metade direita do bloco de 8 bits inicial, junto com uma das subchaves K1 ou K2. Ela é usada em ambas as passagens da função F durante os processos de criptografia e descriptografia."
   ]
  },
  {
   "cell_type": "markdown",
   "id": "ade85cfb",
   "metadata": {},
   "source": [
    "### Função de Permutação - P4\n",
    "\n",
    "Uma função simples de permutação que embaralha um bloco de 4 bits de forma determinística."
   ]
  },
  {
   "cell_type": "code",
   "execution_count": 542,
   "id": "7266ed39",
   "metadata": {},
   "outputs": [],
   "source": [
    "def P_4(block):\n",
    "    \"\"\"Performs the P4 permutation on a 4-bit block.\"\"\"\n",
    "    return [block[1], block[3], block[2], block[0]]"
   ]
  },
  {
   "cell_type": "markdown",
   "id": "44a7a45e",
   "metadata": {},
   "source": [
    "Será aplicada no valor do resultado das tabelas de substituição dentro da Função F."
   ]
  },
  {
   "cell_type": "markdown",
   "id": "067fee2f",
   "metadata": {},
   "source": [
    "### Função F\n",
    "\n",
    "Aqui chegamos no ponto mais crucial da nossa implementação, a funçao F. A função realiza três principais operações em um bloco de 4 bits: aplica a expansão e permutação (EP) para expandir o bloco de 4 bits para 8 bits com base na chave; usa as tabelas S0 e S1 para determinar as linhas e colunas correspondentes e obter um valor binário de saída; e, por fim, utiliza a permutação P4 para reorganizar os bits em um padrão específico, resultando em uma saída final do bloco."
   ]
  },
  {
   "cell_type": "code",
   "execution_count": 543,
   "id": "02b5c58d",
   "metadata": {},
   "outputs": [],
   "source": [
    "def F(key, block):\n",
    "    \"\"\"F function applies EP, S-box substitutions, and P4 permutations to a 4-bit block.\"\"\"\n",
    "    block = EP(key, block)\n",
    "\n",
    "    row_S0    = (binary_to_decimal(block[0] + block[3]))\n",
    "    column_S0 = (binary_to_decimal(block[1] + block[2]))\n",
    "    row_S1    = (binary_to_decimal(block[4] + block[7]))\n",
    "    column_S1 = (binary_to_decimal(block[5] + block[6]))\n",
    "    \n",
    "    return P_4(S0[row_S0][column_S0] + S1[row_S1][column_S1])"
   ]
  },
  {
   "cell_type": "markdown",
   "id": "2f564ca3",
   "metadata": {},
   "source": [
    "A função F é chamada dentro da função Fk para processar a metade direita do bloco de 8 bits. Ela é usada para aplicar substituições e permutações."
   ]
  },
  {
   "cell_type": "markdown",
   "id": "710fb9db",
   "metadata": {},
   "source": [
    "### Função Fk\n",
    "\n",
    "A função Fk combina a saída da função F com a metade esquerda de um bloco de 8 bits usando a operação XOR, enquanto a metade direita permanece inalterada. O resultado é um novo bloco de 8 bits, com a metade esquerda modificada."
   ]
  },
  {
   "cell_type": "code",
   "execution_count": 544,
   "id": "ae3480b8",
   "metadata": {},
   "outputs": [],
   "source": [
    "def Fk(key, block):\n",
    "    \"\"\"Fk function applies XOR on the output of F with the left half of the block.\"\"\"\n",
    "    left = block[:4]\n",
    "    right = block[4:]\n",
    "\n",
    "    f_result = F(key, right)\n",
    "    left_result = []\n",
    "    for i in range(len(left)):\n",
    "        left_result = left_result + [exclusive_or(left[i], f_result[i])]\n",
    "\n",
    "    return left_result + right"
   ]
  },
  {
   "cell_type": "markdown",
   "id": "a33caf39",
   "metadata": {},
   "source": [
    "Essa função será chamada duas vezes durante os processos de criptografia e descriptografia, utilizando uma das subchaves (K1 ou K2) como entrada junto com o bloco em processamento. Na criptografia, a ordem das subchaves é K1 seguida de K2, enquanto na descriptografia é K2 seguida de K1."
   ]
  },
  {
   "cell_type": "markdown",
   "id": "519a7d5a",
   "metadata": {},
   "source": [
    "### Função SW\n",
    "\n",
    "A função SW realiza a troca das metades do bloco de 8 bits, trocando a metade esquerda com a metade direita."
   ]
  },
  {
   "cell_type": "code",
   "execution_count": 545,
   "id": "ac7eeb9a",
   "metadata": {},
   "outputs": [],
   "source": [
    "def SW(block):\n",
    "    \"\"\"Switches the left and right halves of the block.\"\"\"\n",
    "    return block[4:] + block[:4]"
   ]
  },
  {
   "cell_type": "markdown",
   "id": "f15c5f41",
   "metadata": {},
   "source": [
    "Esta função será chamada após a primeira aplicação da função Fk, trocando as metades do bloco de dados."
   ]
  },
  {
   "cell_type": "markdown",
   "id": "aeaafd42",
   "metadata": {},
   "source": [
    "### Executando Criptografia e Descriptografia\n",
    "\n",
    "Para testarmos a operação desse algoritmo executaremos nosso algoritmo tanto para descriptografia quanto para a criptografia, utilizando as mesmas subchaves geradas anteriormente."
   ]
  },
  {
   "cell_type": "code",
   "execution_count": 546,
   "id": "10d589a7",
   "metadata": {},
   "outputs": [
    {
     "name": "stdout",
     "output_type": "stream",
     "text": [
      "Cipher Text: ['1', '0', '1', '0', '1', '0', '0', '0']\n",
      "Plain Text: ['1', '1', '0', '1', '0', '1', '1', '1']\n",
      "\n",
      "Success! The decryption was successful, and the original block matches the decrypted plaintext.\n"
     ]
    }
   ],
   "source": [
    "cipher_text = FP(Fk(k2, SW(Fk(k1, IP(block)))))\n",
    "plain_text = FP(Fk(k1, SW(Fk(k2, IP(cipher_text)))))\n",
    "\n",
    "print(f'Cipher Text: {cipher_text}')\n",
    "print(f'Plain Text: {plain_text}')\n",
    "print()\n",
    "\n",
    "if plain_text == block:\n",
    "    print(f'Success! The decryption was successful, and the original block matches the decrypted plaintext.')\n",
    "else:\n",
    "    print(f'Error: The decryption failed. The original block does not match the decrypted plaintext.')\n"
   ]
  },
  {
   "cell_type": "markdown",
   "id": "06ab1e3b",
   "metadata": {},
   "source": [
    "O resultado deve ser:\n",
    "Cipher Text: ['1', '0', '1', '0', '1', '0', '0', '0']\n",
    "\n",
    "\n",
    "e apresentar a mensagem:\n",
    "Success! The decryption was successful, and the original block matches the decrypted plaintext.\n",
    "\n",
    "\n",
    "Assim, sinalizando que o nosso processo de geração de chaves, criptografia e descriptografia estão funcionando de forma adequada e conivente com o esperado. Caso não tenha obtido esse resultado, rode novamente todos os blocos de código deste arquivo notebook jupyter."
   ]
  },
  {
   "cell_type": "markdown",
   "id": "7235d8f7",
   "metadata": {},
   "source": [
    "# Repositório da Implementação\n",
    "\n",
    "Para mais informações sobre a implementação, confira o repositório: https://github.com/EduardoMarciano/Simplified-DES\n"
   ]
  }
 ],
 "metadata": {
  "kernelspec": {
   "display_name": ".venv",
   "language": "python",
   "name": "python3"
  },
  "language_info": {
   "codemirror_mode": {
    "name": "ipython",
    "version": 3
   },
   "file_extension": ".py",
   "mimetype": "text/x-python",
   "name": "python",
   "nbconvert_exporter": "python",
   "pygments_lexer": "ipython3",
   "version": "3.11.2"
  }
 },
 "nbformat": 4,
 "nbformat_minor": 5
}
